{
 "cells": [
  {
   "cell_type": "code",
   "execution_count": null,
   "metadata": {
    "_uuid": "97e41687fd65e0cb02ec656231abaa4c01884bbe",
    "collapsed": true
   },
   "outputs": [],
   "source": [
    "import random\n",
    "import numpy as np\n",
    "import pandas as pd\n",
    "\n",
    "from math import*\n",
    "\n",
    "import matplotlib.pyplot as plt"
   ]
  },
  {
   "cell_type": "code",
   "execution_count": null,
   "metadata": {
    "_uuid": "965b69cb0c1e67b45c4e084c1e810109fc2ea928",
    "collapsed": true
   },
   "outputs": [],
   "source": [
    "data = pd.read_csv('../input/DataNew1.csv')\n",
    "dadt = []\n",
    "dadt.append(0)\n",
    "for i in range(1,data.shape[0]):\n",
    "    dadt.append((data.Alpha[i]-data.Alpha[i-1])/(data.Time[i]-data.Time[i-1]))\n",
    "\n",
    "data['da-dt'] = dadt\n",
    "df = data.drop(['Time'],axis=1)\n",
    "df = df[df['da-dt'] != 0]\n",
    "df = df.reset_index(drop=True)\n",
    "df = df.dropna()\n",
    "df.shape"
   ]
  },
  {
   "cell_type": "code",
   "execution_count": null,
   "metadata": {
    "_uuid": "6ddebc4ffdffb138d5a6f419b3bf2d190e2c1ee7",
    "collapsed": true
   },
   "outputs": [],
   "source": [
    "def fitness(i, pop):\n",
    "    errorSum = []\n",
    "    # unknowns\n",
    "    m = pop.iloc[i, 0]\n",
    "    n = pop.iloc[i, 1]\n",
    "    a1 = pop.iloc[i, 2]\n",
    "    a2 = pop.iloc[i, 3]\n",
    "    e1 = pop.iloc[i, 4]\n",
    "    e2 = pop.iloc[i, 5]\n",
    "\n",
    "    for j in range(0, df.shape[0]):\n",
    "        # given values\n",
    "        T = df.iloc[j, 0]\n",
    "        a = df.iloc[j, 1]\n",
    "        d = df.iloc[j, 2]\n",
    "\n",
    "        k1 = a1 * e ** (-e1 / T)\n",
    "        k2 = a2 * e ** (-e2 / T)\n",
    "        error = d - (k1 + k2 * a ** m) * (1 - a) ** n\n",
    "        errorSum.append(error)\n",
    "        errorSum = list(map(abs, errorSum))\n",
    "    return 1 / sum(errorSum)\n",
    "# Sample answer\n",
    "# order: df = T-0, a-1, d-2; pop = m-0, n-1, a1-2, a2-3, e1-4, e2-5\n",
    "#pp = initialPopulation(100, 6)\n",
    "#fitness(0, pp)"
   ]
  },
  {
   "cell_type": "code",
   "execution_count": null,
   "metadata": {
    "_uuid": "0a4e316550d5da413d6faa3e32390652e165793a",
    "collapsed": true
   },
   "outputs": [],
   "source": [
    "def No_use_initialPopulation(popsize, unknowns):\n",
    "    pop = pd.DataFrame(np.random.randint(-2000, 16000, size=(popsize,unknowns)) * random.random(), columns=list('012345'))\n",
    "    pop.columns = ['m', 'n', 'a1', 'a2', 'e1', 'e2']\n",
    "    return pd.DataFrame(pop)\n",
    "#initialPopulation(popsize=100, unknowns=6)"
   ]
  },
  {
   "cell_type": "code",
   "execution_count": null,
   "metadata": {
    "_uuid": "6ff754b67a77a6ea6eba72275c01b47f10957b7c",
    "collapsed": true
   },
   "outputs": [],
   "source": [
    "def initialPopulation(popsize, unknowns):\n",
    "    pop = pd.DataFrame(np.random.randint(0, 16000, size=(popsize,unknowns)) * random.random(), columns=list('012345'))\n",
    "    pop.columns = ['m', 'n', 'a1', 'a2', 'e1', 'e2']\n",
    "    pop.m = pop.m/700\n",
    "    pop.n = pop.n/700\n",
    "    pop.a1 = pop.a1/100000\n",
    "    pop.a2 = pop.a2/120000000\n",
    "    #pop.e1 = pop.e1*2\n",
    "    #pop.e2 = pop.e2*2\n",
    "    return pd.DataFrame(pop)\n",
    "#initialPopulation(popsize=100, unknowns=6)"
   ]
  },
  {
   "cell_type": "code",
   "execution_count": null,
   "metadata": {
    "_uuid": "4d6b919714c0ba03d8a4c6b099594600f9910980",
    "collapsed": true
   },
   "outputs": [],
   "source": [
    "def rankPopulation(population):\n",
    "    dfr = population\n",
    "    fitnessColumn = []\n",
    "    for i in range(0, dfr.shape[0]):\n",
    "        fitnessColumn.append(fitness(i,dfr))\n",
    "    dfr['Fitness'] = fitnessColumn\n",
    "    dfr.sort_values(by=['Fitness'], ascending=False, inplace=True)\n",
    "    dfr = dfr.reset_index(drop=True)\n",
    "    return dfr\n",
    "#pp = initialPopulation(100, 6)\n",
    "#rankPopulation(pp)"
   ]
  },
  {
   "cell_type": "code",
   "execution_count": null,
   "metadata": {
    "_uuid": "7d3c3f8f726ac78aedee53889b528cdb941bc41d",
    "collapsed": true
   },
   "outputs": [],
   "source": [
    "# selection for meting = metingpool\n",
    "def selection(rankedPop, eliteSize):\n",
    "    dfs = rankedPop\n",
    "    dfs['cum_sum'] = dfs.Fitness.cumsum()\n",
    "    dfs['cum_perc'] = 100 * dfs.cum_sum / dfs.Fitness.sum()\n",
    "    selectionResults = dfs.iloc[0:eliteSize, :]\n",
    "    for i in range(0, dfs.shape[0] - eliteSize):\n",
    "        pick = random.random()*100\n",
    "        for i in range(0, dfs.shape[0]):\n",
    "            if pick <= float(dfs.iloc[i, 5]):\n",
    "                selectionResults = pd.concat([selectionResults, dfs.iloc[i:i + 1, :]], ignore_index=True)\n",
    "                break\n",
    "    return selectionResults.drop(['cum_sum', 'cum_perc', 'Fitness'], axis=1).values.tolist()\n",
    "\n",
    "#pp = initialPopulation(100, 6)\n",
    "#rp = rankPopulation(pp)\n",
    "#selection(rp,20)"
   ]
  },
  {
   "cell_type": "code",
   "execution_count": null,
   "metadata": {
    "_uuid": "c359c2faa4a6bb62828548a3c8e3ff853d279cae",
    "collapsed": true
   },
   "outputs": [],
   "source": [
    "def breed(parent1, parent2):\n",
    "    child = []\n",
    "    childP1 = []\n",
    "    childP2 = []\n",
    "    geneA = int(random.random() * len(parent1))\n",
    "    geneB = int(random.random() * len(parent1))\n",
    "    startGene = min(geneA, geneB)\n",
    "    endGene = max(geneA, geneB)\n",
    "    for i in range(startGene, endGene):\n",
    "        childP1.append(parent1[i])\n",
    "    childP2 = [item for item in parent2 if item not in childP1]\n",
    "    for i in range(0, len(parent1) - len(childP1)):\n",
    "        childP1.append(childP2[i])\n",
    "    child = childP1\n",
    "    return child"
   ]
  },
  {
   "cell_type": "code",
   "execution_count": null,
   "metadata": {
    "_uuid": "2db781f9e79bd2cf887de090bc5ec29cccc0905c",
    "collapsed": true
   },
   "outputs": [],
   "source": [
    "def breedPopulation(matingpool, eliteSize):\n",
    "    children = []\n",
    "    length = len(matingpool) - eliteSize\n",
    "    pool = random.sample(matingpool, len(matingpool))\n",
    "\n",
    "    for i in range(0, eliteSize):\n",
    "        children.append(matingpool[i])\n",
    "\n",
    "    for i in range(0, length):\n",
    "        child = breed(pool[i], pool[len(matingpool) - i - 1])\n",
    "        children.append(child)\n",
    "    return pd.DataFrame(children)\n",
    "\n",
    "#pp = initialPopulation(100, 6)\n",
    "#rp = rankPopulation(pp)\n",
    "#mtp = selection(rp,20)\n",
    "#breedPopulation(mtp, 20)"
   ]
  },
  {
   "cell_type": "code",
   "execution_count": null,
   "metadata": {
    "_uuid": "dcc28029c213b1f4c2cd3248df86138ed2b91d60",
    "collapsed": true
   },
   "outputs": [],
   "source": [
    "def mutatePopulation(population, eliteSize):\n",
    "    population = population.values.tolist()\n",
    "    mutatedPop = []\n",
    "    for i in range(0, eliteSize):\n",
    "        mutatedPop.append(population[i])\n",
    "\n",
    "    for j in range(0, len(population) - eliteSize):\n",
    "        if j % 3 == 0:\n",
    "            mutatedPop.append(\n",
    "                list(np.array(population[0]) + np.random.randint(-1, 1, size=len(population[0])) * 5 * random.random()))\n",
    "        elif j % 6 == 0:\n",
    "            mutatedPop.append(list(np.array(population[0]) + np.random.randint(-1, 1, size=len(population[0]))))\n",
    "        elif j % 5 ==0:\n",
    "            mutatedPop.append((initialPopulation(len(population), len(population[0])).iloc[j]*np.random.random()).values.tolist())\n",
    "        else:\n",
    "            mutatedPop.append(initialPopulation(len(population), len(population[0])).iloc[j].values.tolist())\n",
    "    return pd.DataFrame(mutatedPop)\n",
    "\n",
    "# pp = initialPopulation(100, 6)\n",
    "# rp = rankPopulation(pp)\n",
    "# mtpl = selection(rp,20)\n",
    "# bpp = breedPopulation(mtp, 20)\n",
    "# mutatePopulation(bpp, 20)"
   ]
  },
  {
   "cell_type": "code",
   "execution_count": null,
   "metadata": {
    "_uuid": "fbec561b69007711b35086e78f9989b538d84de3",
    "collapsed": true
   },
   "outputs": [],
   "source": [
    "def nextGeneration(currentGen, eliteSize, unknowns):\n",
    "    rankedPop = rankPopulation(currentGen)#.drop(['Fitness'], axis = 1) #fitness column required\n",
    "    matingpool = selection(rankedPop,eliteSize)\n",
    "    breedChildren = breedPopulation(matingpool, eliteSize)\n",
    "    rankedChildren = rankPopulation(breedChildren).drop(['Fitness'], axis = 1)\n",
    "    mutatedGen = mutatePopulation(rankedChildren, eliteSize)\n",
    "    nextGeneration = rankPopulation(mutatedGen)#.drop(['Fitness'], axis = 1)#.values.tolist()\n",
    "    #nextGeneration = children\n",
    "    return nextGeneration\n",
    "\n",
    "#pp = initialPopulation(100, 6)\n",
    "#nextGeneration(currentGen=pp, eliteSize=20, unknowns=6)"
   ]
  },
  {
   "cell_type": "code",
   "execution_count": null,
   "metadata": {
    "_uuid": "a5e57f1f4e039cfe5ca5f9cac47212abba90e15a",
    "collapsed": true
   },
   "outputs": [],
   "source": [
    "def geneticAlgorithm(unknowns, popSize, eliteSize, generations):\n",
    "    pop = initialPopulation(popSize, unknowns)\n",
    "    print(len(pop))\n",
    "    print(rankPopulation(pop).shape)\n",
    "    print(\"Initial error: \" + str(1 / rankPopulation(pop).iloc[0, unknowns]))\n",
    "    #fig, ex = plt.figure()\n",
    "    progress = []\n",
    "    for i in range(0, generations):\n",
    "        pop = nextGeneration(pop, eliteSize, unknowns)\n",
    "        progress.append(1 / rankPopulation(pop).iloc[0, unknowns])\n",
    "        # print(len(pop))\n",
    "        # print(rankPopulation(pop).shape)\n",
    "        if i % 100 == 0:\n",
    "            print(i)\n",
    "            print(\"current error: \" + str(1 / rankPopulation(pop).iloc[0, unknowns]))\n",
    "        if i%200 == 0:\n",
    "            print(str(rankPopulation(pop).iloc[0, :]))\n",
    "        print(i)\n",
    "        print(pop.iloc[0,:].values.tolist())\n",
    "        print(1 / fitness(0,pop))\n",
    "    plt.plot(progress)\n",
    "    plt.suptitle('Current solution: [m, n, a1, a2, e1, e2] Error\\n'+ str(np.round(pop.iloc[0,:][:-1],3).values.tolist())+\"   \"+ str(1/np.round(pop.iloc[0,:][-1],3)), fontsize=10) # np.round(a, decimals=0, out=None)\n",
    "    #plt.text(2, 6, r'an equation: $E=mc^2$', fontsize=15)\n",
    "    plt.ylabel('Error')\n",
    "    plt.xlabel('Generation')\n",
    "    plt.pause(0.05)\n",
    "    plt.show()\n",
    "    print(\"Final error: \" + str(1 / rankPopulation(pop).iloc[0, unknowns]))\n",
    "    bestSol = rankPopulation(pop).iloc[0:25, :]\n",
    "    return bestSol"
   ]
  },
  {
   "cell_type": "code",
   "execution_count": null,
   "metadata": {
    "_uuid": "0bfe9165b27820ce222b3aa7cfeda789bb002d0a",
    "collapsed": true
   },
   "outputs": [],
   "source": [
    "ans = geneticAlgorithm(unknowns = 6, popSize=500, eliteSize=20, generations=2000)"
   ]
  },
  {
   "cell_type": "code",
   "execution_count": null,
   "metadata": {
    "_uuid": "0f49a9298cab84592d43fbfe9711ccbf4790bbe3",
    "collapsed": true
   },
   "outputs": [],
   "source": [
    "ans1 = ans.values.tolist()\n",
    "ans2 = ans.values.tolist()\n",
    "ans3 = []\n",
    "ans3.append(ans1)\n",
    "ans3.append(ans2)\n",
    "ans4 = pd.DataFrame(ans3)\n",
    "ans4"
   ]
  },
  {
   "cell_type": "code",
   "execution_count": null,
   "metadata": {
    "_uuid": "8c94aeccc62aaecbe33932d38df6e3888d6eed90",
    "collapsed": true
   },
   "outputs": [],
   "source": [
    "1/fitness(0,ans4)"
   ]
  },
  {
   "cell_type": "code",
   "execution_count": null,
   "metadata": {
    "_uuid": "32b1752da3b52dbfc242f910bb71f722cfc69f37",
    "collapsed": true
   },
   "outputs": [],
   "source": [
    "gans1 = list([1.21,1.57, 0.03353,0.00003054,7161,8589])\n",
    "gans2 = gans1\n",
    "gans3 = []\n",
    "gans3.append(gans1)\n",
    "gans3.append(gans2)\n",
    "gans4 = pd.DataFrame(gans3)\n",
    "gans4\n",
    "#m-0, n-1, a1-2, a2-3, e1-4, e2-5"
   ]
  },
  {
   "cell_type": "code",
   "execution_count": null,
   "metadata": {
    "_uuid": "1ba671691ca933762169e34dd55f622fb6ea96c5",
    "collapsed": true
   },
   "outputs": [],
   "source": [
    "1/fitness(0,gans4)"
   ]
  }
 ],
 "metadata": {
  "kernelspec": {
   "display_name": "Python 3",
   "language": "python",
   "name": "python3"
  },
  "language_info": {
   "codemirror_mode": {
    "name": "ipython",
    "version": 3
   },
   "file_extension": ".py",
   "mimetype": "text/x-python",
   "name": "python",
   "nbconvert_exporter": "python",
   "pygments_lexer": "ipython3",
   "version": "3.6.4"
  }
 },
 "nbformat": 4,
 "nbformat_minor": 1
}
